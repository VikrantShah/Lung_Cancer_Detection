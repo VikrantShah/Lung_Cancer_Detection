{
 "cells": [
  {
   "cell_type": "markdown",
   "metadata": {},
   "source": [
    "# Importing the libraries"
   ]
  },
  {
   "cell_type": "code",
   "execution_count": 1,
   "metadata": {},
   "outputs": [],
   "source": [
    "from tensorflow import keras\n",
    "from tensorflow.keras.preprocessing.image import ImageDataGenerator\n",
    "from tensorflow.keras.models import Sequential\n",
    "from tensorflow.keras.layers import Conv2D\n",
    "from tensorflow.keras.layers import MaxPooling2D\n",
    "from tensorflow.keras.layers import Flatten\n",
    "from tensorflow.keras.layers import Dense\n",
    "from tensorflow.keras.layers import Dropout\n",
    "from tensorflow.keras.callbacks import EarlyStopping\n",
    "from tensorflow.keras.callbacks import ModelCheckpoint\n",
    "import matplotlib.pyplot as plt"
   ]
  },
  {
   "cell_type": "markdown",
   "metadata": {},
   "source": [
    "# Getting and loading the Training and Testing set"
   ]
  },
  {
   "cell_type": "code",
   "execution_count": 2,
   "metadata": {},
   "outputs": [],
   "source": [
    "path = r\"C:\\AI-DocHelper_Models_Code\\Lung_Cancer_Detection\\dataset\""
   ]
  },
  {
   "cell_type": "code",
   "execution_count": 3,
   "metadata": {},
   "outputs": [],
   "source": [
    "batch_size = 16\n",
    "img_size = (134, 134)"
   ]
  },
  {
   "cell_type": "code",
   "execution_count": 4,
   "metadata": {},
   "outputs": [],
   "source": [
    "image_datagen = ImageDataGenerator(rescale = 1./255,\n",
    "                                  rotation_range=40.,\n",
    "                                  width_shift_range=0.2,\n",
    "                                  height_shift_range=0.2,\n",
    "                                  shear_range=0.2,\n",
    "                                  zoom_range=0.2, \n",
    "                                  horizontal_flip=True,\n",
    "                                  fill_mode=\"nearest\",\n",
    "                                  validation_split=0.2)"
   ]
  },
  {
   "cell_type": "code",
   "execution_count": 5,
   "metadata": {},
   "outputs": [
    {
     "name": "stdout",
     "output_type": "stream",
     "text": [
      "Found 12000 images belonging to 3 classes.\n",
      "Found 3000 images belonging to 3 classes.\n"
     ]
    }
   ],
   "source": [
    "train_generator = image_datagen.flow_from_directory(path,\n",
    "                                                   target_size=img_size,\n",
    "                                                   batch_size=batch_size,\n",
    "                                                   class_mode=\"categorical\",\n",
    "                                                   subset=\"training\",\n",
    "                                                   shuffle=True)\n",
    "\n",
    "validation_generator = image_datagen.flow_from_directory(path,\n",
    "                                                        target_size=img_size,\n",
    "                                                        batch_size=batch_size,\n",
    "                                                        class_mode=\"categorical\",\n",
    "                                                        subset=\"validation\",\n",
    "                                                        shuffle=False)"
   ]
  },
  {
   "cell_type": "markdown",
   "metadata": {},
   "source": [
    "# Getting the class names"
   ]
  },
  {
   "cell_type": "code",
   "execution_count": 6,
   "metadata": {},
   "outputs": [
    {
     "name": "stdout",
     "output_type": "stream",
     "text": [
      "{0: 'lung_aca', 1: 'lung_n', 2: 'lung_scc'}\n"
     ]
    }
   ],
   "source": [
    "temp_classes = dict(train_generator.class_indices)\n",
    "\n",
    "classes = dict()\n",
    "for (k, v) in temp_classes.items():\n",
    "    classes[v] = k\n",
    "print(classes)"
   ]
  },
  {
   "cell_type": "markdown",
   "metadata": {},
   "source": [
    "# Building the CNN"
   ]
  },
  {
   "cell_type": "markdown",
   "metadata": {},
   "source": [
    "## Initalising the CNN"
   ]
  },
  {
   "cell_type": "code",
   "execution_count": 7,
   "metadata": {},
   "outputs": [],
   "source": [
    "model = Sequential()"
   ]
  },
  {
   "cell_type": "markdown",
   "metadata": {},
   "source": [
    "## Adding VGG16 as the model base"
   ]
  },
  {
   "cell_type": "code",
   "execution_count": 8,
   "metadata": {},
   "outputs": [],
   "source": [
    "from tensorflow.keras.applications import VGG16"
   ]
  },
  {
   "cell_type": "code",
   "execution_count": 9,
   "metadata": {},
   "outputs": [],
   "source": [
    "vgg16 = VGG16(input_shape=(img_size[0], img_size[1], 3),\n",
    "             include_top = False,\n",
    "             weights=\"imagenet\")"
   ]
  },
  {
   "cell_type": "code",
   "execution_count": 10,
   "metadata": {},
   "outputs": [],
   "source": [
    "for layer in vgg16.layers:\n",
    "    layer.trainable= False"
   ]
  },
  {
   "cell_type": "code",
   "execution_count": 11,
   "metadata": {},
   "outputs": [],
   "source": [
    "model.add(vgg16)"
   ]
  },
  {
   "cell_type": "code",
   "execution_count": 12,
   "metadata": {},
   "outputs": [
    {
     "name": "stdout",
     "output_type": "stream",
     "text": [
      "Model: \"vgg16\"\n",
      "_________________________________________________________________\n",
      "Layer (type)                 Output Shape              Param #   \n",
      "=================================================================\n",
      "input_1 (InputLayer)         [(None, 134, 134, 3)]     0         \n",
      "_________________________________________________________________\n",
      "block1_conv1 (Conv2D)        (None, 134, 134, 64)      1792      \n",
      "_________________________________________________________________\n",
      "block1_conv2 (Conv2D)        (None, 134, 134, 64)      36928     \n",
      "_________________________________________________________________\n",
      "block1_pool (MaxPooling2D)   (None, 67, 67, 64)        0         \n",
      "_________________________________________________________________\n",
      "block2_conv1 (Conv2D)        (None, 67, 67, 128)       73856     \n",
      "_________________________________________________________________\n",
      "block2_conv2 (Conv2D)        (None, 67, 67, 128)       147584    \n",
      "_________________________________________________________________\n",
      "block2_pool (MaxPooling2D)   (None, 33, 33, 128)       0         \n",
      "_________________________________________________________________\n",
      "block3_conv1 (Conv2D)        (None, 33, 33, 256)       295168    \n",
      "_________________________________________________________________\n",
      "block3_conv2 (Conv2D)        (None, 33, 33, 256)       590080    \n",
      "_________________________________________________________________\n",
      "block3_conv3 (Conv2D)        (None, 33, 33, 256)       590080    \n",
      "_________________________________________________________________\n",
      "block3_pool (MaxPooling2D)   (None, 16, 16, 256)       0         \n",
      "_________________________________________________________________\n",
      "block4_conv1 (Conv2D)        (None, 16, 16, 512)       1180160   \n",
      "_________________________________________________________________\n",
      "block4_conv2 (Conv2D)        (None, 16, 16, 512)       2359808   \n",
      "_________________________________________________________________\n",
      "block4_conv3 (Conv2D)        (None, 16, 16, 512)       2359808   \n",
      "_________________________________________________________________\n",
      "block4_pool (MaxPooling2D)   (None, 8, 8, 512)         0         \n",
      "_________________________________________________________________\n",
      "block5_conv1 (Conv2D)        (None, 8, 8, 512)         2359808   \n",
      "_________________________________________________________________\n",
      "block5_conv2 (Conv2D)        (None, 8, 8, 512)         2359808   \n",
      "_________________________________________________________________\n",
      "block5_conv3 (Conv2D)        (None, 8, 8, 512)         2359808   \n",
      "_________________________________________________________________\n",
      "block5_pool (MaxPooling2D)   (None, 4, 4, 512)         0         \n",
      "=================================================================\n",
      "Total params: 14,714,688\n",
      "Trainable params: 0\n",
      "Non-trainable params: 14,714,688\n",
      "_________________________________________________________________\n"
     ]
    }
   ],
   "source": [
    "vgg16.summary()"
   ]
  },
  {
   "cell_type": "markdown",
   "metadata": {},
   "source": [
    "## Flattening all the layers"
   ]
  },
  {
   "cell_type": "code",
   "execution_count": 13,
   "metadata": {},
   "outputs": [],
   "source": [
    "model.add(Flatten())"
   ]
  },
  {
   "cell_type": "markdown",
   "metadata": {},
   "source": [
    "## Adding the First Fully Connected Layer"
   ]
  },
  {
   "cell_type": "code",
   "execution_count": 14,
   "metadata": {},
   "outputs": [],
   "source": [
    "model.add(Dense(units=512, activation=\"relu\"))"
   ]
  },
  {
   "cell_type": "markdown",
   "metadata": {},
   "source": [
    "## Adding a Dropout layer"
   ]
  },
  {
   "cell_type": "code",
   "execution_count": 15,
   "metadata": {},
   "outputs": [],
   "source": [
    "model.add(Dropout(rate=0.5))"
   ]
  },
  {
   "cell_type": "markdown",
   "metadata": {},
   "source": [
    "## Adding the Final Fully Connected Layer"
   ]
  },
  {
   "cell_type": "code",
   "execution_count": 16,
   "metadata": {},
   "outputs": [],
   "source": [
    "model.add(Dense(units=3, activation=\"sigmoid\"))"
   ]
  },
  {
   "cell_type": "markdown",
   "metadata": {},
   "source": [
    "## Diaplaying the model summary"
   ]
  },
  {
   "cell_type": "code",
   "execution_count": 17,
   "metadata": {},
   "outputs": [
    {
     "name": "stdout",
     "output_type": "stream",
     "text": [
      "Model: \"sequential\"\n",
      "_________________________________________________________________\n",
      "Layer (type)                 Output Shape              Param #   \n",
      "=================================================================\n",
      "vgg16 (Functional)           (None, 4, 4, 512)         14714688  \n",
      "_________________________________________________________________\n",
      "flatten (Flatten)            (None, 8192)              0         \n",
      "_________________________________________________________________\n",
      "dense (Dense)                (None, 512)               4194816   \n",
      "_________________________________________________________________\n",
      "dropout (Dropout)            (None, 512)               0         \n",
      "_________________________________________________________________\n",
      "dense_1 (Dense)              (None, 3)                 1539      \n",
      "=================================================================\n",
      "Total params: 18,911,043\n",
      "Trainable params: 4,196,355\n",
      "Non-trainable params: 14,714,688\n",
      "_________________________________________________________________\n"
     ]
    }
   ],
   "source": [
    "model.summary()"
   ]
  },
  {
   "cell_type": "markdown",
   "metadata": {},
   "source": [
    "# Compiling the CNN"
   ]
  },
  {
   "cell_type": "code",
   "execution_count": 18,
   "metadata": {},
   "outputs": [],
   "source": [
    "model.compile(optimizer=\"adam\",\n",
    "             loss=\"categorical_crossentropy\",\n",
    "              metrics=[\"accuracy\"])"
   ]
  },
  {
   "cell_type": "markdown",
   "metadata": {},
   "source": [
    "# Training the CNN"
   ]
  },
  {
   "cell_type": "markdown",
   "metadata": {},
   "source": [
    "## Saving the best model only"
   ]
  },
  {
   "cell_type": "code",
   "execution_count": 19,
   "metadata": {},
   "outputs": [],
   "source": [
    "checkpoint = ModelCheckpoint(filepath=\"lung_cancer.h5\",\n",
    "                            save_best_only=True)"
   ]
  },
  {
   "cell_type": "markdown",
   "metadata": {},
   "source": [
    "## Stop the training, if there is no improvement"
   ]
  },
  {
   "cell_type": "code",
   "execution_count": 20,
   "metadata": {},
   "outputs": [],
   "source": [
    "earlyStopping = EarlyStopping(monitor=\"val_loss\",\n",
    "                             patience=10,\n",
    "                             restore_best_weights=True,\n",
    "                             verbose=1)"
   ]
  },
  {
   "cell_type": "markdown",
   "metadata": {},
   "source": [
    "## Calculating the steps_per_epoch and valiadtion_steps"
   ]
  },
  {
   "cell_type": "code",
   "execution_count": 21,
   "metadata": {},
   "outputs": [
    {
     "name": "stdout",
     "output_type": "stream",
     "text": [
      "750\n",
      "188\n"
     ]
    }
   ],
   "source": [
    "import math\n",
    "\n",
    "batch_size=batch_size\n",
    "training_size = 12000 \n",
    "validation_size = 3000\n",
    "\n",
    "compute_steps_per_epoch = lambda x : int(math.ceil(1. * x / batch_size))\n",
    "\n",
    "steps_per_epoch = compute_steps_per_epoch(training_size)\n",
    "valiadtion_steps = compute_steps_per_epoch(validation_size)\n",
    "\n",
    "print(steps_per_epoch)\n",
    "print(valiadtion_steps)"
   ]
  },
  {
   "cell_type": "code",
   "execution_count": 22,
   "metadata": {},
   "outputs": [
    {
     "name": "stdout",
     "output_type": "stream",
     "text": [
      "Epoch 1/30\n",
      "750/750 [==============================] - 790s 1s/step - loss: 0.5152 - accuracy: 0.8308 - val_loss: 0.1566 - val_accuracy: 0.9393\n",
      "Epoch 2/30\n",
      "750/750 [==============================] - 755s 1s/step - loss: 0.2281 - accuracy: 0.9097 - val_loss: 0.1961 - val_accuracy: 0.9190\n",
      "Epoch 3/30\n",
      "750/750 [==============================] - 808s 1s/step - loss: 0.2324 - accuracy: 0.9060 - val_loss: 0.1456 - val_accuracy: 0.9410\n",
      "Epoch 4/30\n",
      "750/750 [==============================] - 758s 1s/step - loss: 0.2083 - accuracy: 0.9177 - val_loss: 0.1529 - val_accuracy: 0.9373\n",
      "Epoch 5/30\n",
      "750/750 [==============================] - 768s 1s/step - loss: 0.2037 - accuracy: 0.9199 - val_loss: 0.1510 - val_accuracy: 0.9387\n",
      "Epoch 6/30\n",
      "750/750 [==============================] - 733s 978ms/step - loss: 0.1851 - accuracy: 0.9268 - val_loss: 0.1396 - val_accuracy: 0.9470\n",
      "Epoch 7/30\n",
      "750/750 [==============================] - 773s 1s/step - loss: 0.1774 - accuracy: 0.9300 - val_loss: 0.1404 - val_accuracy: 0.9393\n",
      "Epoch 8/30\n",
      "750/750 [==============================] - 765s 1s/step - loss: 0.1830 - accuracy: 0.9293 - val_loss: 0.1380 - val_accuracy: 0.9437\n",
      "Epoch 9/30\n",
      "750/750 [==============================] - 743s 991ms/step - loss: 0.1716 - accuracy: 0.9330 - val_loss: 0.1470 - val_accuracy: 0.9440\n",
      "Epoch 10/30\n",
      "750/750 [==============================] - 713s 950ms/step - loss: 0.1641 - accuracy: 0.9354 - val_loss: 0.1442 - val_accuracy: 0.9430\n",
      "Epoch 11/30\n",
      "750/750 [==============================] - 732s 975ms/step - loss: 0.1734 - accuracy: 0.9306 - val_loss: 0.1174 - val_accuracy: 0.9483\n",
      "Epoch 12/30\n",
      "750/750 [==============================] - 723s 964ms/step - loss: 0.1709 - accuracy: 0.9306 - val_loss: 0.1337 - val_accuracy: 0.9433\n",
      "Epoch 13/30\n",
      "750/750 [==============================] - 744s 992ms/step - loss: 0.1629 - accuracy: 0.9375 - val_loss: 0.1593 - val_accuracy: 0.9363\n",
      "Epoch 14/30\n",
      "750/750 [==============================] - 768s 1s/step - loss: 0.1543 - accuracy: 0.9375 - val_loss: 0.1137 - val_accuracy: 0.9560\n",
      "Epoch 15/30\n",
      "750/750 [==============================] - 744s 992ms/step - loss: 0.1575 - accuracy: 0.9390 - val_loss: 0.1279 - val_accuracy: 0.9480\n",
      "Epoch 16/30\n",
      "750/750 [==============================] - 757s 1s/step - loss: 0.1589 - accuracy: 0.9393 - val_loss: 0.1258 - val_accuracy: 0.9513\n",
      "Epoch 17/30\n",
      "750/750 [==============================] - 775s 1s/step - loss: 0.1597 - accuracy: 0.9399 - val_loss: 0.1398 - val_accuracy: 0.9417\n",
      "Epoch 18/30\n",
      "750/750 [==============================] - 757s 1s/step - loss: 0.1595 - accuracy: 0.9374 - val_loss: 0.1223 - val_accuracy: 0.9537\n",
      "Epoch 19/30\n",
      "750/750 [==============================] - 768s 1s/step - loss: 0.1487 - accuracy: 0.9422 - val_loss: 0.1155 - val_accuracy: 0.9517\n",
      "Epoch 20/30\n",
      "750/750 [==============================] - 786s 1s/step - loss: 0.1500 - accuracy: 0.9389 - val_loss: 0.1254 - val_accuracy: 0.9483\n",
      "Epoch 21/30\n",
      "750/750 [==============================] - 777s 1s/step - loss: 0.1415 - accuracy: 0.9460 - val_loss: 0.1152 - val_accuracy: 0.9477\n",
      "Epoch 22/30\n",
      "750/750 [==============================] - 781s 1s/step - loss: 0.1404 - accuracy: 0.9428 - val_loss: 0.1092 - val_accuracy: 0.9550\n",
      "Epoch 23/30\n",
      "750/750 [==============================] - 802s 1s/step - loss: 0.1363 - accuracy: 0.9458 - val_loss: 0.1231 - val_accuracy: 0.9490\n",
      "Epoch 24/30\n",
      "750/750 [==============================] - 819s 1s/step - loss: 0.1468 - accuracy: 0.9418 - val_loss: 0.1217 - val_accuracy: 0.9527\n",
      "Epoch 25/30\n",
      "750/750 [==============================] - 814s 1s/step - loss: 0.1361 - accuracy: 0.9430 - val_loss: 0.1017 - val_accuracy: 0.9583\n",
      "Epoch 26/30\n",
      "750/750 [==============================] - 854s 1s/step - loss: 0.1466 - accuracy: 0.9428 - val_loss: 0.1293 - val_accuracy: 0.9517\n",
      "Epoch 27/30\n",
      "750/750 [==============================] - 794s 1s/step - loss: 0.1440 - accuracy: 0.9438 - val_loss: 0.1149 - val_accuracy: 0.9527\n",
      "Epoch 28/30\n",
      "750/750 [==============================] - 778s 1s/step - loss: 0.1483 - accuracy: 0.9384 - val_loss: 0.1457 - val_accuracy: 0.9460\n",
      "Epoch 29/30\n",
      "750/750 [==============================] - 780s 1s/step - loss: 0.1427 - accuracy: 0.9417 - val_loss: 0.1125 - val_accuracy: 0.9533\n",
      "Epoch 30/30\n",
      "750/750 [==============================] - 767s 1s/step - loss: 0.1380 - accuracy: 0.9441 - val_loss: 0.1106 - val_accuracy: 0.9540\n"
     ]
    }
   ],
   "source": [
    "history = model.fit(train_generator,\n",
    "                   steps_per_epoch=steps_per_epoch,\n",
    "                    epochs=30,\n",
    "                   validation_data=validation_generator,\n",
    "                   validation_steps=valiadtion_steps,\n",
    "                   callbacks=[checkpoint, earlyStopping])"
   ]
  },
  {
   "cell_type": "markdown",
   "metadata": {},
   "source": [
    "# Saving the model"
   ]
  },
  {
   "cell_type": "code",
   "execution_count": 23,
   "metadata": {},
   "outputs": [],
   "source": [
    "model_json = model.to_json()\n",
    "\n",
    "with open(\"lung_cancer.json\", \"w\") as json_file :\n",
    "    json_file.write(model_json)"
   ]
  },
  {
   "cell_type": "markdown",
   "metadata": {},
   "source": [
    "# Visualizing the training performance"
   ]
  },
  {
   "cell_type": "code",
   "execution_count": 25,
   "metadata": {},
   "outputs": [
    {
     "data": {
      "image/png": "[encoded data removed]",
      "text/plain": [
       "<Figure size 864x864 with 2 Axes>"
      ]
     },
     "metadata": {
      "needs_background": "light"
     },
     "output_type": "display_data"
    }
   ],
   "source": [
    "plt.figure(figsize = (12, 12))\n",
    "\n",
    "plt.subplot(2, 2, 1)\n",
    "plt.plot(history.history[\"accuracy\"], label = \"accuracy\")\n",
    "plt.plot(history.history[\"val_accuracy\"], label = \"val_accuracy\")\n",
    "plt.legend()\n",
    "plt.grid()\n",
    "plt.title(\"Accuracy Evaluation\")\n",
    "\n",
    "plt.subplot(2, 2, 2)\n",
    "plt.plot(history.history[\"loss\"], label = \"loss\")\n",
    "plt.plot(history.history[\"val_loss\"], label = \"val_loss\")\n",
    "plt.grid()\n",
    "plt.legend()\n",
    "plt.title(\"Loss Evaluation\")\n",
    "\n",
    "plt.savefig(\"lung_cancer_model_history.jpg\")"
   ]
  },
  {
   "cell_type": "markdown",
   "metadata": {},
   "source": [
    "# Getting the accuracy for test set"
   ]
  },
  {
   "cell_type": "code",
   "execution_count": 26,
   "metadata": {},
   "outputs": [
    {
     "name": "stdout",
     "output_type": "stream",
     "text": [
      "188/188 [==============================] - 155s 824ms/step - loss: 0.1160 - accuracy: 0.9527\n",
      "[0.11604411154985428, 0.9526666402816772]\n"
     ]
    }
   ],
   "source": [
    "test_accuracy = model.evaluate(validation_generator)\n",
    "print(test_accuracy)"
   ]
  },
  {
   "cell_type": "code",
   "execution_count": 27,
   "metadata": {},
   "outputs": [
    {
     "name": "stdout",
     "output_type": "stream",
     "text": [
      "188/188 [==============================] - 150s 797ms/step\n"
     ]
    },
    {
     "data": {
      "text/plain": [
       "array([[8.0999529e-01, 3.8580000e-03, 8.0437273e-01],\n",
       "       [9.9999273e-01, 6.2891777e-05, 6.4224148e-01],\n",
       "       [9.8983639e-01, 2.2047371e-02, 3.0266148e-01],\n",
       "       ...,\n",
       "       [9.7677064e-01, 9.1324145e-30, 9.9999923e-01],\n",
       "       [9.5235622e-01, 4.3371898e-25, 9.9999189e-01],\n",
       "       [9.5811707e-01, 1.3749644e-23, 9.9998534e-01]], dtype=float32)"
      ]
     },
     "execution_count": 27,
     "metadata": {},
     "output_type": "execute_result"
    }
   ],
   "source": [
    "preds = model.predict(validation_generator, verbose=1)\n",
    "preds"
   ]
  },
  {
   "cell_type": "code",
   "execution_count": 28,
   "metadata": {},
   "outputs": [],
   "source": [
    "predictions = preds.copy()\n",
    "predictions[predictions <= 0.5] = 0\n",
    "predictions[predictions > 0.5] = 1"
   ]
  },
  {
   "cell_type": "code",
   "execution_count": 29,
   "metadata": {},
   "outputs": [
    {
     "name": "stdout",
     "output_type": "stream",
     "text": [
      "[[1. 0. 1.]\n",
      " [1. 0. 1.]\n",
      " [1. 0. 0.]\n",
      " ...\n",
      " [1. 0. 1.]\n",
      " [1. 0. 1.]\n",
      " [1. 0. 1.]]\n"
     ]
    }
   ],
   "source": [
    "print(predictions)"
   ]
  },
  {
   "cell_type": "code",
   "execution_count": null,
   "metadata": {},
   "outputs": [],
   "source": []
  }
 ],
 "metadata": {
  "kernelspec": {
   "display_name": "Python 3",
   "language": "python",
   "name": "python3"
  },
  "language_info": {
   "codemirror_mode": {
    "name": "ipython",
    "version": 3
   },
   "file_extension": ".py",
   "mimetype": "text/x-python",
   "name": "python",
   "nbconvert_exporter": "python",
   "pygments_lexer": "ipython3",
   "version": "3.8.5"
  }
 },
 "nbformat": 4,
 "nbformat_minor": 4
}
